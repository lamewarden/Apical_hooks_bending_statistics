{
 "cells": [
  {
   "cell_type": "code",
   "execution_count": 1,
   "source": [
    "import pandas as pd\r\n",
    "import numpy as np\r\n",
    "import statistics as st\r\n",
    "import statsmodels.api as sa\r\n",
    "import statsmodels.formula.api as sfa\r\n",
    "import scikit_posthocs as sp\r\n",
    "from scipy import stats\r\n",
    "# Let's employ ANOVA\r\n",
    "from scipy.stats import f_oneway\r\n",
    "from statsmodels.stats.multicomp import pairwise_tukeyhsd\r\n"
   ],
   "outputs": [],
   "metadata": {
    "collapsed": true
   }
  },
  {
   "cell_type": "code",
   "execution_count": 8,
   "source": [
    "def file_opener(adress, invert=False):\r\n",
    "    \"\"\" Open and cut our file\"\"\"\r\n",
    "    df_coll = pd.read_excel(adress,sheet_name=None, header=None)\r\n",
    "    list_df=[]\r\n",
    "    for it in df_coll.values():\r\n",
    "        ''' converting angle if needed'''\r\n",
    "        if invert==True:\r\n",
    "            list_df.append(180-pd.DataFrame(it).loc[1:,1:])\r\n",
    "        else:\r\n",
    "            list_df.append(pd.DataFrame(it).loc[1:,1:])\r\n",
    "    return list_df\r\n",
    "\r\n",
    "def CutMean(list_of_df, cut_from=0, cut_to=-1):\r\n",
    "    \"\"\"Cutting off a non-linear part of the curve \r\n",
    "    and extracting mean for each plant\"\"\"\r\n",
    "    data_cut_mean=[]\r\n",
    "    for datafr in list_of_df:\r\n",
    "        data_cut_mean.append(datafr.iloc[cut_from:cut_to,:].apply(np.mean, axis=0))\r\n",
    "    return data_cut_mean\r\n",
    "\r\n",
    "def tukefying(list_of_means):\r\n",
    "    '''Converting the data to the edible format for the TukeyHSD'''\r\n",
    "    listOM_concat = np.concatenate(list_of_means)\r\n",
    "    return pd.DataFrame({'Value': listOM_concat,\r\n",
    "                   'Line': np.repeat(['WT', 'PIN7a', 'PIN7b', 'pin7_2'], repeats=len(listOM_concat)/4)})"
   ],
   "outputs": [],
   "metadata": {}
  },
  {
   "cell_type": "code",
   "execution_count": 9,
   "source": [
    "data = file_opener('2021.04_phototropism.xlsx', invert=True)\r\n",
    "means_per_line=CutMean(data,8,-1)\r\n",
    "means_ready_to_THSD = tukefying(means_per_line)\r\n"
   ],
   "outputs": [],
   "metadata": {}
  },
  {
   "cell_type": "code",
   "execution_count": 10,
   "source": [
    "# perform Tukey's test\r\n",
    "tukey = pairwise_tukeyhsd(endog=means_ready_to_THSD['Value'],\r\n",
    "                          groups=means_ready_to_THSD['Line'],\r\n",
    "                          alpha=0.05)\r\n",
    "\r\n",
    "#display results\r\n",
    "print(tukey)"
   ],
   "outputs": [
    {
     "output_type": "stream",
     "name": "stdout",
     "text": [
      " Multiple Comparison of Means - Tukey HSD, FWER=0.05 \n",
      "=====================================================\n",
      "group1 group2 meandiff p-adj   lower    upper  reject\n",
      "-----------------------------------------------------\n",
      " PIN7a  PIN7b -14.6934 0.0167 -27.3493 -2.0375   True\n",
      " PIN7a     WT  -0.9775    0.9 -13.6334 11.6785  False\n",
      " PIN7a pin7_2 -17.9296 0.0023 -30.5856 -5.2737   True\n",
      " PIN7b     WT  13.7159 0.0287     1.06 26.3719   True\n",
      " PIN7b pin7_2  -3.2362    0.9 -15.8922  9.4197  False\n",
      "    WT pin7_2 -16.9522 0.0043 -29.6081 -4.2962   True\n",
      "-----------------------------------------------------\n"
     ]
    }
   ],
   "metadata": {}
  },
  {
   "cell_type": "code",
   "execution_count": 54,
   "source": [
    "pd.DataFrame(tukey.summary()).to_excel('phototrop_assympt_mean_tukey_output.xlsx')\r\n",
    "means_ready_to_THSD.to_excel('phototrop_assympt_means_for_plot.xlsx')"
   ],
   "outputs": [],
   "metadata": {}
  },
  {
   "cell_type": "code",
   "execution_count": 11,
   "source": [
    "from statsmodels.stats.multicomp import MultiComparison\r\n",
    "data=MultiComparison(means_ready_to_THSD['Value'], means_ready_to_THSD['Line'])\r\n",
    "results=data.tukeyhsd()\r\n",
    "\r\n",
    "\r\n",
    "results.plot_simultaneous(comparison_name=\"pin7_2\")"
   ],
   "outputs": [
    {
     "output_type": "stream",
     "name": "stderr",
     "text": [
      "C:\\Users\\kashk\\AppData\\Local\\Packages\\PythonSoftwareFoundation.Python.3.9_qbz5n2kfra8p0\\LocalCache\\local-packages\\Python39\\site-packages\\statsmodels\\sandbox\\stats\\multicomp.py:775: UserWarning: FixedFormatter should only be used together with FixedLocator\n",
      "  ax1.set_yticklabels(np.insert(self.groupsunique.astype(str), 0, ''))\n"
     ]
    },
    {
     "output_type": "execute_result",
     "data": {
      "image/png": "[encoded data removed]",
      "text/plain": [
       "<Figure size 720x432 with 1 Axes>"
      ]
     },
     "metadata": {},
     "execution_count": 11
    },
    {
     "output_type": "display_data",
     "data": {
      "image/png": "[encoded data removed]",
      "text/plain": [
       "<Figure size 720x432 with 1 Axes>"
      ]
     },
     "metadata": {
      "needs_background": "light"
     }
    }
   ],
   "metadata": {}
  },
  {
   "cell_type": "code",
   "execution_count": null,
   "source": [],
   "outputs": [],
   "metadata": {}
  }
 ],
 "metadata": {
  "kernelspec": {
   "name": "python3",
   "display_name": "Python 3.9.7 64-bit (windows store)"
  },
  "language_info": {
   "name": "python",
   "version": "3.9.7",
   "mimetype": "text/x-python",
   "codemirror_mode": {
    "name": "ipython",
    "version": 3
   },
   "pygments_lexer": "ipython3",
   "nbconvert_exporter": "python",
   "file_extension": ".py"
  },
  "interpreter": {
   "hash": "90ed5fc457f06020715341baa6f22cc30bca6b8072b86dccc54de0daf799148a"
  }
 },
 "nbformat": 4,
 "nbformat_minor": 2
}
